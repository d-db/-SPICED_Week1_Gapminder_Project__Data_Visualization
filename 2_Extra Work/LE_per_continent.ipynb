{
 "cells": [
  {
   "cell_type": "code",
   "execution_count": 1,
   "id": "add8bd76",
   "metadata": {},
   "outputs": [],
   "source": [
    "import pandas as pd\n",
    "import numpy as np\n",
    "import matplotlib.pyplot as plt\n",
    "import imageio\n",
    "\n",
    "import seaborn as sns"
   ]
  },
  {
   "cell_type": "code",
   "execution_count": 2,
   "id": "dff0ea29",
   "metadata": {},
   "outputs": [],
   "source": [
    "life = pd.read_excel(\"../data/gapminder_lifeexpectancy.xlsx\", index_col=0)"
   ]
  },
  {
   "cell_type": "code",
   "execution_count": 3,
   "id": "f32eec8b",
   "metadata": {},
   "outputs": [],
   "source": [
    "life.columns = life.columns.astype(int)"
   ]
  },
  {
   "cell_type": "code",
   "execution_count": 5,
   "id": "2a817ee0",
   "metadata": {},
   "outputs": [],
   "source": [
    "life.index.name = 'country'"
   ]
  },
  {
   "cell_type": "code",
   "execution_count": 6,
   "id": "0cae713d",
   "metadata": {},
   "outputs": [],
   "source": [
    "life.reset_index(inplace=True)"
   ]
  },
  {
   "cell_type": "markdown",
   "id": "5fad1f66",
   "metadata": {},
   "source": [
    "## Load continent Data"
   ]
  },
  {
   "cell_type": "code",
   "execution_count": 7,
   "id": "99ee0aaf",
   "metadata": {},
   "outputs": [],
   "source": [
    "con = pd.read_csv(\"../data/continents.csv\", sep=\";\")"
   ]
  },
  {
   "cell_type": "markdown",
   "id": "ced6026b",
   "metadata": {},
   "source": [
    "## Merge the two dataframes and make it long format"
   ]
  },
  {
   "cell_type": "code",
   "execution_count": 33,
   "id": "9cf66eb3",
   "metadata": {},
   "outputs": [],
   "source": [
    "df = life.merge(con)"
   ]
  },
  {
   "cell_type": "code",
   "execution_count": 34,
   "id": "d305776a",
   "metadata": {},
   "outputs": [],
   "source": [
    "df_con = df.groupby(\"continent\")"
   ]
  },
  {
   "cell_type": "code",
   "execution_count": 44,
   "id": "f532cd0e",
   "metadata": {},
   "outputs": [],
   "source": [
    "df_final = df_con.mean().round(1)"
   ]
  },
  {
   "cell_type": "code",
   "execution_count": 53,
   "id": "12a98006",
   "metadata": {},
   "outputs": [],
   "source": [
    "df_final.reset_index(inplace=True)"
   ]
  },
  {
   "cell_type": "code",
   "execution_count": 56,
   "id": "f046f3dc",
   "metadata": {},
   "outputs": [],
   "source": [
    "final = df_final.melt(id_vars='continent', var_name='year', value_name='life_expectancy')"
   ]
  },
  {
   "cell_type": "markdown",
   "id": "de701989",
   "metadata": {},
   "source": [
    "## Create graphs and the animation"
   ]
  },
  {
   "cell_type": "code",
   "execution_count": 115,
   "id": "fed04168",
   "metadata": {},
   "outputs": [],
   "source": [
    "for i in range(1800, 2016):\n",
    "    fig, ax = plt.subplots(figsize=(15,10))\n",
    "\n",
    "    plot_subset = final[final[\"year\"] <= i]\n",
    "\n",
    "    sns.lineplot(data=plot_subset, x=\"year\", y=\"life_expectancy\", hue=\"continent\")\n",
    "    sns.set_style(\"darkgrid\")\n",
    "\n",
    "    sns.move_legend(ax, \"upper left\", title=None, fontsize=13)\n",
    "    plt.axis((1795,2015,0,90))\n",
    "\n",
    "    plt.xticks(fontsize=13)\n",
    "    plt.yticks(fontsize=13)\n",
    "\n",
    "    plt.title(\"Life expectancy per continent (1960 - 2015)\", fontsize=20, fontweight=\"bold\")\n",
    "    plt.xlabel(\"Year\", fontsize=16, fontweight=\"bold\")\n",
    "    plt.ylabel(\"Life Expectancy\", fontsize=15, fontweight=\"bold\")\n",
    "\n",
    "    path = \"../Extra/data/lifeexp\" + str(i) + \".png\"\n",
    "    plt.savefig(path)\n",
    "    plt.close()"
   ]
  },
  {
   "cell_type": "code",
   "execution_count": 116,
   "id": "4dc76407",
   "metadata": {},
   "outputs": [],
   "source": [
    "images = []\n",
    "\n",
    "for i in range(1800, 2016):\n",
    "    path = \"./data/lifeexp\" + str(i) + \".png\"\n",
    "    images.append(imageio.imread(path))\n",
    "\n",
    "imageio.mimsave('le_Line_20fps.gif', images, fps=20)"
   ]
  }
 ],
 "metadata": {
  "kernelspec": {
   "display_name": "Python 3 (ipykernel)",
   "language": "python",
   "name": "python3"
  },
  "language_info": {
   "codemirror_mode": {
    "name": "ipython",
    "version": 3
   },
   "file_extension": ".py",
   "mimetype": "text/x-python",
   "name": "python",
   "nbconvert_exporter": "python",
   "pygments_lexer": "ipython3",
   "version": "3.9.12"
  }
 },
 "nbformat": 4,
 "nbformat_minor": 5
}
